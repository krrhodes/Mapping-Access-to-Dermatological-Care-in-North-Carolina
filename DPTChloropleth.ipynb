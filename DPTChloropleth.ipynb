{
 "cells": [
  {
   "cell_type": "code",
   "execution_count": null,
   "metadata": {},
   "outputs": [],
   "source": [
    "import pandas as pd\n",
    "\n",
    "df = pd.read_csv('NCFIPSDerm.csv')"
   ]
  },
  {
   "cell_type": "code",
   "execution_count": null,
   "metadata": {},
   "outputs": [],
   "source": [
    "import json\n",
    "\n",
    "counties_geo = r'NC-37-north-carolina-counties.geojson'\n",
    "json.load(open(counties_geo))"
   ]
  },
  {
   "cell_type": "code",
   "execution_count": null,
   "metadata": {},
   "outputs": [],
   "source": [
    "import folium\n",
    "\n",
    "# create a plain world map\n",
    "counties_map = folium.Map(location=[40.416775, -3.703790], zoom_start=6, tiles='stamenwatercolor')\n",
    "\n",
    "# generate choropleth map \n",
    "counties_map.choropleth(\n",
    "    geo_data=counties_geo,\n",
    "    data=df,\n",
    "    columns=['County', 'DPT'],\n",
    "    key_on='feature.properties.County',\n",
    "    fill_color='YlGnBu', \n",
    "    fill_opacity=1, \n",
    "    line_opacity=1,\n",
    "    legend_name='DPT',\n",
    "    smooth_factor=0)\n",
    "\n",
    "# display map\n",
    "counties_map"
   ]
  },
  {
   "cell_type": "code",
   "execution_count": null,
   "metadata": {},
   "outputs": [],
   "source": [
    "counties_map.save(\"DPT_Chloropleth\")"
   ]
  },
  {
   "cell_type": "code",
   "execution_count": null,
   "metadata": {},
   "outputs": [],
   "source": []
  }
 ],
 "metadata": {
  "kernelspec": {
   "display_name": "Python 3",
   "language": "python",
   "name": "python3"
  },
  "language_info": {
   "codemirror_mode": {
    "name": "ipython",
    "version": 3
   },
   "file_extension": ".py",
   "mimetype": "text/x-python",
   "name": "python",
   "nbconvert_exporter": "python",
   "pygments_lexer": "ipython3",
   "version": "3.8.3"
  }
 },
 "nbformat": 4,
 "nbformat_minor": 4
}
